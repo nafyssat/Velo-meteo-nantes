{
 "cells": [
  {
   "cell_type": "code",
   "execution_count": 22,
   "metadata": {},
   "outputs": [],
   "source": [
    "import pandas as pd\n",
    "from datetime import datetime\n"
   ]
  },
  {
   "cell_type": "markdown",
   "metadata": {},
   "source": [
    "### Chargement des données"
   ]
  },
  {
   "cell_type": "code",
   "execution_count": 23,
   "metadata": {},
   "outputs": [],
   "source": [
    "data = pd.read_csv('../old_data/velo.csv',sep=\";\")\n",
    "data1=pd.read_csv(\"../old_data/meteo.csv\",sep=\",\")\n"
   ]
  },
  {
   "cell_type": "markdown",
   "metadata": {},
   "source": [
    "### Sélection des colonnes pertinentes pour l’analyse\n"
   ]
  },
  {
   "cell_type": "code",
   "execution_count": 24,
   "metadata": {},
   "outputs": [],
   "source": [
    "colonnes_a_conserver = [\n",
    "    'Numéro de boucle',\n",
    "    'Jour',\n",
    "    'Total',\n",
    "    'Jour de la semaine',\n",
    "    'Boucle de comptage',\n",
    "    'Vacances'\n",
    "]\n",
    "df = data[colonnes_a_conserver]\n",
    "\n",
    "df = df.rename(columns={\n",
    "    'Numéro de boucle': 'code_boucle',\n",
    "    'Boucle de comptage': 'nom_station',\n",
    "     'Jour': 'date',\n",
    "     'Jour de la semaine': 'jour_semaine',\n",
    "     'Vacances': 'vacances',\n",
    "     'Total': 'total',\n",
    "}\n",
    "\n",
    ")\n",
    "df['date']=pd.to_datetime(df['date'])\n"
   ]
  },
  {
   "cell_type": "markdown",
   "metadata": {},
   "source": [
    "### Création de la dimension station\n"
   ]
  },
  {
   "cell_type": "code",
   "execution_count": 25,
   "metadata": {},
   "outputs": [],
   "source": [
    "df_station = df[['code_boucle','nom_station']]\n",
    "df_station = df_station.drop_duplicates()\n",
    "df_station['id_station'] = df_station.reset_index().index + 1\n",
    "df_station.to_csv(\"../data/station.csv\", index=False) "
   ]
  },
  {
   "cell_type": "markdown",
   "metadata": {},
   "source": [
    "### Création de la dimension temps \n"
   ]
  },
  {
   "cell_type": "code",
   "execution_count": 26,
   "metadata": {},
   "outputs": [],
   "source": [
    "df['date']=pd.to_datetime(df['date'])\n",
    "df_date = df[['date','vacances']]\n",
    "df_date = df_date.drop_duplicates()\n",
    "df_date = df_date.reset_index(drop=True)\n",
    "df_date['id_date'] = df_date.index +1\n",
    "\n",
    "df_date['mois'] = df_date['date'].dt.month\n",
    "df_date['jour'] = df_date['date'].dt.day\n",
    "df_date['name_day'] = df_date['date'].dt.dayofweek + 1\n",
    "\n",
    "df_date.to_csv(\"../data/temps.csv\", index=False) \n"
   ]
  },
  {
   "cell_type": "markdown",
   "metadata": {},
   "source": [
    "###  Traitement des données météo \n"
   ]
  },
  {
   "cell_type": "code",
   "execution_count": 27,
   "metadata": {},
   "outputs": [],
   "source": [
    "data1=data1.rename(columns={\n",
    "    'temperature_2m (°C)':'temperature',\n",
    "    'precipitation (mm)':'precipitation',\n",
    "    'wind_speed_10m (km/h)':'wind_speed',\n",
    "    'cloud_cover (%)':'cloud_cover',\n",
    "    'wind_gusts_10m (km/h)':'wind_gusts',\n",
    "    'apparent_temperature (°C)':'apparent_temperature',\n",
    "    'time':'date'\n",
    "\n",
    "})\n",
    "\n",
    "data1['date'] = pd.to_datetime(data1['date'])\n",
    "data1['date'] = data1['date'].dt.date\n",
    "df_meteo_jour = data1.groupby('date').max(numeric_only=True).reset_index()\n",
    "df_meteo_jour['id_meteo'] = df_meteo_jour.index + 1\n",
    "df_meteo_jour = df_meteo_jour[['id_meteo', 'date', 'temperature', 'precipitation', 'wind_speed', 'cloud_cover', 'wind_gusts', 'apparent_temperature']]\n",
    "\n",
    "df_meteo_jour.to_csv(\"../data/meteo.csv\", index=False)\n"
   ]
  },
  {
   "cell_type": "code",
   "execution_count": null,
   "metadata": {},
   "outputs": [],
   "source": []
  },
  {
   "cell_type": "markdown",
   "metadata": {},
   "source": [
    "###  Construction de la table de faits \n",
    "Jointure des données météo au dataset principal"
   ]
  },
  {
   "cell_type": "code",
   "execution_count": 28,
   "metadata": {},
   "outputs": [],
   "source": [
    "data1['date']=pd.to_datetime(data1['date'])\n",
    "df_faits_final = pd.merge(df, data1, on='date', how='left')\n",
    "\n",
    "df_faits = df_faits_final.merge(df_station, on=['code_boucle', 'nom_station'], how='left')\n",
    "\n",
    "df_faits['date'] = pd.to_datetime(df_faits['date'])\n",
    "df_meteo_jour['date'] = pd.to_datetime(df_meteo_jour['date'])\n",
    "df_date['date'] = pd.to_datetime(df_date['date'])\n",
    "\n",
    "df_faits = df_faits.merge(df_meteo_jour[['date', 'id_meteo']], on='date', how='left')\n",
    "df_faits = df_faits.merge(df_date[['date', 'id_date']], on='date', how='left')\n",
    "\n"
   ]
  },
  {
   "cell_type": "markdown",
   "metadata": {},
   "source": [
    "### Sélection et nettoyage des colonnes finales\n"
   ]
  },
  {
   "cell_type": "code",
   "execution_count": 29,
   "metadata": {},
   "outputs": [],
   "source": [
    "df_faits_clean = df_faits[['id_station', 'id_date', 'id_meteo', 'total']]\n",
    "\n",
    "df_faits_clean = df_faits_clean.reset_index(drop=True)\n",
    "df_faits_clean['id_fait'] = df_faits_clean.index + 1\n",
    "\n",
    "df_faits_clean = df_faits_clean[['id_fait', 'id_station', 'id_date', 'id_meteo', 'total']]\n",
    "\n",
    "df_faits_clean.to_csv(\"../data/fait_comptage.csv\", index=False)\n",
    "\n",
    "\n"
   ]
  }
 ],
 "metadata": {
  "kernelspec": {
   "display_name": "Python 3",
   "language": "python",
   "name": "python3"
  },
  "language_info": {
   "codemirror_mode": {
    "name": "ipython",
    "version": 3
   },
   "file_extension": ".py",
   "mimetype": "text/x-python",
   "name": "python",
   "nbconvert_exporter": "python",
   "pygments_lexer": "ipython3",
   "version": "3.13.1"
  }
 },
 "nbformat": 4,
 "nbformat_minor": 2
}
